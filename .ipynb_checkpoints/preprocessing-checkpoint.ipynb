{
 "cells": [
  {
   "cell_type": "code",
   "execution_count": null,
   "id": "bc18fbb2",
   "metadata": {
    "scrolled": true
   },
   "outputs": [],
   "source": [
    "import nltk\n",
    "import string\n",
    "import re\n",
    "import csv\n",
    "\n",
    "from nltk.tokenize import word_tokenize\n",
    "from nltk.corpus import stopwords\n",
    "from Sastrawi.Stemmer.StemmerFactory import StemmerFactory\n",
    "\n",
    "listtoken=[]\n",
    "\n",
    "def tokenizing(text):\n",
    "    #hapus url dari kalimat dan mention\n",
    "    clean_text=re.sub(r\"(?:\\@|http?\\://|https?\\://|www)\\S+\",\" \",text)\n",
    "\n",
    "    #hapus hashtags\n",
    "    clean_text=re.sub(\"#[A-Za-z0-9_]+\",\" \",clean_text)\n",
    "\n",
    "    #casefolding\n",
    "    cf_result = clean_text.lower()\n",
    "\n",
    "    #tokenizing\n",
    "    tkn_result = re.sub(r\"\\d+\",\" \",cf_result) #hapus angka\n",
    "\n",
    "    #pattern = re.compile(r'[^A-Za-z ]+', re.UNICODE)\n",
    "    tkn_result = re.sub(r'[^a-z\\s]+',' ',tkn_result) #hapus non alphanumerik karakter\n",
    "\n",
    "    #hapus whitespace d awal dan akhir\n",
    "    #tkn_result = tkn_result.translate(str.maketrans(\"\",\"\",string.punctuation))\n",
    "    tkn_result = tkn_result.strip()\n",
    "\n",
    "    #hapus multiple spasi karakter\n",
    "    tkn_result = re.sub('\\s+',' ',tkn_result)\n",
    "    tokens = nltk.tokenize.word_tokenize(tkn_result)\n",
    "\n",
    "    #hapus kata sambung/stopwords\n",
    "    list_stopwords = nltk.corpus.stopwords.words('indonesian')\n",
    "    stopword_tambahan = ['yg','gitu','aja','gini','ajah','kalo','ah','nihhh','hahaha','wkwkwkw','deh','or','sih']\n",
    "    list_stopwords.extend(stopword_tambahan)\n",
    "    tkn_no_stopwords = [word for word in tokens if not word in list_stopwords]\n",
    "\n",
    "    #----stemmer (hapus imbuhan)\n",
    "    #----create stemmer\n",
    "    factory = StemmerFactory()\n",
    "    stemmer = factory.create_stemmer()\n",
    "\n",
    "    #---- token without stopword\n",
    "    list_tokens = tkn_no_stopwords\n",
    "    output   = [(stemmer.stem(token)) for token in list_tokens]\n",
    "    return output\n",
    "\n",
    "with open(\"datatrain/misc.csv\",\"r\") as csv_file:\n",
    "#with open(\"wildlife trade.csv\",\"r\") as csv_file:\n",
    "    csv_read = csv.reader(csv_file,delimiter=',')\n",
    "    for line in csv_read:\n",
    "        #listtoken.append(tokenizing(line[0]))\n",
    "        print(line)\n",
    "print(\"data\")\n",
    "print(listtoken)"
   ]
  },
  {
   "cell_type": "code",
   "execution_count": null,
   "id": "79b00de3",
   "metadata": {},
   "outputs": [],
   "source": []
  }
 ],
 "metadata": {
  "kernelspec": {
   "display_name": "Python 3",
   "language": "python",
   "name": "python3"
  },
  "language_info": {
   "codemirror_mode": {
    "name": "ipython",
    "version": 3
   },
   "file_extension": ".py",
   "mimetype": "text/x-python",
   "name": "python",
   "nbconvert_exporter": "python",
   "pygments_lexer": "ipython3",
   "version": "3.6.8"
  }
 },
 "nbformat": 4,
 "nbformat_minor": 5
}
