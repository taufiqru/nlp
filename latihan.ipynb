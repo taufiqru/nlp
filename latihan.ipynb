{
 "cells": [
  {
   "cell_type": "code",
   "execution_count": 78,
   "id": "9e38a204",
   "metadata": {
    "scrolled": true
   },
   "outputs": [
    {
     "name": "stdout",
     "output_type": "stream",
     "text": [
      "[['jual', 'bayi', 'harimau', 'gk', 'ken', 'melihara', 'banget'], ['jual', 'bayi', 'harimau'], ['off', 'gakseru', 'nih', 'mending', 'buka', 'kaskus', 'kali', 'jual', 'bayi', 'harimau', 'd'], ['jual', 'bayi', 'harimau', 'mana', 'yah', 'info', 'nya', 'd'], ['jual', 'bayi', 'harimau', 'ga', 'bs', 'gede'], ['serius', 'gue', 'banget', 'beli', 'jual', 'bayi', 'harimau'], ['jual', 'bayi', 'singa', 'harimau'], ['jual', 'bayi', 'harimau', 'ga', 'gue', 'ken', 'beli'], ['info', 'jual', 'bayi', 'harimau'], ['jual', 'bayi', 'harimau', 'putih', 'maulaaaa'], ['mana', 'jual', 'harimau', 'singa', 'bayi'], ['g', 'tau', 'jual', 'bayi', 'harimau'], ['redtwk', 'jual', 'bayi', 'harimau', 'langsung', 'dibeliin', 'isisendiri'], ['wiiii', 'jual', 'bayi', 'harimau', 'gue', 'jg', 'ky'], ['ken', 'pelihara', 'anak', 'harimau', 'anak', 'singa', 'deeehh', 'jual', 'g', 'ya', 'bayi', 'nyaa'], ['kak', 'wkwkrt', 'hening', 'rtheningis', 'redtwk', 'jual', 'bayi', 'harimau', 'langsung', 'beli'], ['jual', 'gw', 'beli', 'tu', 'bayi', 'harimau', 'gede', 'bayi', 'ngeri', 'gede', 'hehee'], ['jual', 'ginjal', 'dibeliin', 'bayi', 'harimau'], ['q', 'jual', 'zak', 'mw', 'haart', 'tau', 'ga', 'dmana', 'jual', 'bayi', 'harimau', 'share', 'info'], ['wkwk', 'jual', 'brp', 'om', 'buset', 'kaskus', 'jual', 'bayi', 'harimau'], ['bolehrt', 'sumpah', 'lo', 'kenal', 'jual', 'bayi', 'harimau', 'putih', 'gue'], ['nya', 'siluman', 'kera', 'putihrt', 'jual', 'bayi', 'harimau', 'beli', 'harimau', 'putih', 'ga', 'rin'], ['teume', 'akun', 'jual', 'babi', 'panda', 'harimau', 'koala', 'hamster', 'singa', 'kucing', 'rubah', 'kelinci', 'alpaca', 'serigala', 'sapi', 'tag', 'akun', 'ulang', 'ya', 'lupa', 'bayi', 'imut'], ['pingin', 'bayi', 'harimau', 'jual', 'gak'], ['mana', 'ya', 'jual', 'bayi', 'harimau', 'sumatera'], ['bayi', 'harimau', 'ngga', 'jual'], ['bayi', 'harimau', 'jual', 'ga', 'yaa'], ['gak', 'onok', 'seng', 'jual', 'bayi', 'harimau', 'ya'], ['buset', 'kaskus', 'jual', 'bayi', 'harimau'], ['jual', 'bayi', 'harimau'], ['bayi', 'harimau', 'gak', 'jual', 'ya'], ['info', 'jual', 'bayi', 'kuskus', 'kukang', 'bayi', 'harimau', 'daerah', 'malang', 'dm', 'ya', 'min'], ['alis', 'harimau', 'natural', 'blom', 'in', 'wts', 'potong', 'kulit', 'alis', 'harimau', 'fungsi', 'k'], ['seru', 'kali', 'ya', 'melihara', 'bayi', 'harimau', 'udah', 'gede', 'nya', 'jual', 'dah', 'kebon', 'binatang'], ['jual', 'gigi', 'harimau'], ['gigi', 'harimau', 'yes', 'jual'], ['jual', 'taring', 'kuku', 'kumis', 'harimau', 'asli', 'garansi', 'jual', 'taring', 'kuku', 'kumis', 'harimau', 'asli', 'berg'], ['wtf', 'jual', 'kuku', 'harimau', 'tanduk', 'rusa', 'putih', 'kat', 'carousel'], ['jual', 'taring', 'kuku', 'harimau', 'lapis', 'mas'], ['kuku', 'harimau', 'jambi', 'jual', 'kuku', 'harimau', 'asli', 'dr', 'jambi', 'minat', 'lsg', 'pm', 'ane', 'ga', 'hub', 'nb', 'b'], ['jual', 'kuku', 'harimau', 'kuku', 'harimau', 'jamin', 'asli', 'silah', 'kontak', 'telpon', 'whatsapp', 'co'], ['lapak', 'jual', 'taring', 'kulit', 'kuku', 'harimau', 'gt', 'cc', 'via'], ['cem', 'kelen', 'jual', 'kuku', 'harimau', 'cek', 'seller'], ['jual', 'kuku', 'harimau', 'sumatera', 'asli', 'buyer', 'alas', 'wibawa', 'nilai', 'magis'], ['jual', 'pelbagai', 'jenis', 'kuku', 'kuku', 'harimau', 'kuku', 'lembu', 'kuku', 'ayam', 'x', 'de', 'laa', 'jual', 'baju', 'lelawa', 'laa'], ['lapak', 'jual', 'taring', 'kulit', 'kuku', 'harimau', 'gt', 'cc', 'via'], ['jual', 'taring', 'kuku', 'kumis', 'harimau', 'asli', 'garansi', 'jual', 'taring', 'kuku', 'kumis', 'harimau', 'asli', 'berg'], ['jual', 'anak', 'harimau', 'putih', 'minat', 'jinak'], ['ken', 'pelihara', 'anak', 'harimau', 'sampe', 'gede', 'jinak', 'v', 'trus', 'gua', 'lepasin', 'taring', 'u', 'u']]\n"
     ]
    }
   ],
   "source": [
    "import nltk\n",
    "import string\n",
    "import re\n",
    "import csv\n",
    "\n",
    "\n",
    "from nltk.tokenize import word_tokenize\n",
    "from nltk.corpus import stopwords\n",
    "from Sastrawi.Stemmer.StemmerFactory import StemmerFactory\n",
    "\n",
    "listtoken=[]\n",
    "\n",
    "def tokenizing(text):\n",
    "    #hapus url dari kalimat dan mention\n",
    "        clean_text=re.sub(r\"(?:\\@|http?\\://|https?\\://|www)\\S+\",\" \",text)\n",
    "        #hapus hashtags\n",
    "        clean_text=re.sub(\"#[A-Za-z0-9_]+\",\" \",clean_text)\n",
    "        \n",
    "        #casefolding\n",
    "        cf_result = clean_text.lower()\n",
    "        #tokenizing\n",
    "        tkn_result = re.sub(r\"\\d+\",\" \",cf_result) #hapus angka\n",
    "        #pattern = re.compile(r'[^A-Za-z ]+', re.UNICODE)\n",
    "        tkn_result = re.sub(r'[^a-z\\s]+',' ',tkn_result) #hapus non alphanumerik karakter\n",
    "        #tkn_result = tkn_result.translate(str.maketrans(\"\",\"\",string.punctuation))\n",
    "        tkn_result = tkn_result.strip() #hapus whitespace d awal dan akhir\n",
    "        tkn_result = re.sub('\\s+',' ',tkn_result) #hapus multiple spasi karakter\n",
    "        tokens = nltk.tokenize.word_tokenize(tkn_result)\n",
    "         #hapus kata sambung/stopwords\n",
    "        list_stopwords = nltk.corpus.stopwords.words('indonesian')\n",
    "        stopword_tambahan = ['yg','gitu','aja','gini','ajah','kalo','ah','nihhh','hahaha','wkwkwkw','deh','or','sih']\n",
    "        list_stopwords.extend(stopword_tambahan)\n",
    "        tkn_no_stopwords = [word for word in tokens if not word in list_stopwords]\n",
    "       \n",
    "        #----stemmer (hapus imbuhan)\n",
    "        #----create stemmer\n",
    "        factory = StemmerFactory()\n",
    "        stemmer = factory.create_stemmer()\n",
    "\n",
    "        #---- token without stopword\n",
    "        list_tokens = tkn_no_stopwords\n",
    "        output   = [(stemmer.stem(token)) for token in list_tokens]\n",
    "        return output\n",
    "\n",
    "#with open(\"misc.csv\",\"r\") as csv_file:\n",
    "with open(\"wildlife trade.csv\",\"r\") as csv_file:\n",
    "    csv_read = csv.reader(csv_file,delimiter=',')\n",
    "    for line in csv_read:\n",
    "        listtoken.append(tokenizing(line[0]))   \n",
    "\n",
    "print(listtoken)\n",
    "    \n",
    "\n"
   ]
  },
  {
   "cell_type": "code",
   "execution_count": 69,
   "id": "9fa3207b",
   "metadata": {},
   "outputs": [
    {
     "name": "stdout",
     "output_type": "stream",
     "text": [
      "417  baris berhasil disimpan\n"
     ]
    }
   ],
   "source": [
    "#Memasukkan data hasil preprocessing ke dalam database\n",
    "import mysql.connector\n",
    "\n",
    "row=0\n",
    "conn = mysql.connector.connect(host='localhost',user='root',password='',database='nlp')\n",
    "cursor = conn.cursor()\n",
    "for i in listtoken:\n",
    "    for j in i:\n",
    "        query = (\"INSERT INTO token_misc (token) values (%s)\")\n",
    "        #query = (\"INSERT INTO token_wildlife_trade (token) values (%s)\")\n",
    "        value = (j,)\n",
    "        try:\n",
    "            cursor.execute(query,value)\n",
    "            row+=1    \n",
    "        except:\n",
    "            print(\"error\")\n",
    "conn.commit()\n",
    "conn.close()\n",
    "print(row,\"baris berhasil disimpan\")\n",
    "\n",
    "\n"
   ]
  },
  {
   "cell_type": "code",
   "execution_count": 80,
   "id": "dfd1a043",
   "metadata": {},
   "outputs": [
    {
     "name": "stdout",
     "output_type": "stream",
     "text": [
      "[('jual',), ('bayi',), ('harimau',), ('gk',), ('pengen',), ('melihara',), ('banget',), ('jual',), ('bayi',), ('harimau',), ('off',), ('gakseru',), ('nih',), ('mending',), ('buka',), ('kaskus',), ('kali',), ('jual',), ('bayi',), ('harimau',), ('d',), ('jual',), ('bayi',), ('harimau',), ('dimana',), ('yah',), ('info',), ('nya',), ('d',), ('jual',), ('bayi',), ('harimau',), ('ga',), ('bs',), ('gede',), ('seriusan',), ('gue',), ('banget',), ('beli',), ('jual',), ('bayi',), ('harimau',), ('jual',), ('bayi',), ('singa',), ('harimau',), ('jual',), ('bayi',), ('harimau',), ('ga',), ('gue',), ('pengen',), ('beli',), ('info',), ('jual',), ('bayi',), ('harimau',), ('jual',), ('bayi',), ('harimau',), ('putih',), ('maulaaaa',), ('dimana',), ('jual',), ('harimau',), ('singa',), ('bayi',), ('g',), ('tau',), ('jual',), ('bayi',), ('harimau',), ('redtwk',), ('jual',), ('bayi',), ('harimau',), ('langsung',), ('dibeliin',), ('isisendiri',), ('wiiii',), ('jual',), ('bayi',), ('harimau',), ('gue',), ('jg',), ('ky',), ('pengen',), ('pelihara',), ('anak',), ('harimau',), ('anak',), ('singa',), ('deeehh',), ('jual',), ('g',), ('ya',), ('bayi',), ('nyaa',), ('kak',), ('wkwkrt',), ('hening',), ('rtheningis',), ('redtwk',), ('jual',), ('bayi',), ('harimau',), ('langsung',), ('dibelii',), ('jual',), ('gw',), ('beli',), ('tu',), ('bayi',), ('harimau',), ('gede',), ('bayi',), ('ngeri',), ('gede',), ('hehee',), ('jual',), ('ginjal',), ('dibeliin',), ('bayi',), ('harimau',), ('q',), ('jual',), ('zak',), ('mw',), ('haart',), ('tau',), ('ga',), ('dmana',), ('jual',), ('bayi',), ('harimau',), ('share',), ('info',), ('wkwk',), ('dijual',), ('brp',), ('om',), ('buset',), ('kaskus',), ('jual',), ('bayi',), ('harimau',), ('bolehrt',), ('sumpah',), ('lo',), ('kenalan',), ('jual',), ('bayi',), ('harimau',), ('putih',), ('gue',), ('nya',), ('siluman',), ('kera',), ('putihrt',), ('jual',), ('bayi',), ('harimau',), ('beli',), ('harimau',), ('putih',), ('ga',), ('rin',), ('teume',), ('akun',), ('jual',), ('babi',), ('panda',), ('harimau',), ('koala',), ('hamster',), ('singa',), ('kucing',), ('rubah',), ('kelinci',), ('alpaca',), ('serigala',), ('sapi',), ('tag',), ('akunnya',), ('ulang',), ('ya',), ('lupa',), ('bayi',), ('imut',), ('pingin',), ('bayi',), ('harimau',), ('jual',), ('gak',), ('dimana',), ('ya',), ('jual',), ('bayi',), ('harimau',), ('sumatera',), ('bayi',), ('harimau',), ('ngga',), ('jual',), ('bayi',), ('harimau',), ('jual',), ('ga',), ('yaa',), ('gak',), ('onok',), ('seng',), ('jual',), ('bayi',), ('harimau',), ('ya',), ('buset',), ('kaskus',), ('jual',), ('bayi',), ('harimau',), ('jual',), ('bayi',), ('harimau',), ('bayi',), ('harimau',), ('gak',), ('jual',), ('ya',), ('info',), ('jual',), ('bayi',), ('kuskus',), ('kukang',), ('bayi',), ('harimau',), ('daerah',), ('malang',), ('dm',), ('ya',), ('min',), ('alis',), ('harimau',), ('natural',), ('blom',), ('in',), ('wts',), ('sepotong',), ('kulit',), ('alis',), ('harimau',), ('fungsi',), ('k',), ('seru',), ('kali',), ('ya',), ('melihara',), ('bayi',), ('harimau',), ('udah',), ('gede',), ('nya',), ('jual',), ('dah',), ('kebon',), ('binatang',), ('jual',), ('gigi',), ('harimau',), ('gigi',), ('harimau',), ('yes',), ('jual',), ('jual',), ('taring',), ('kuku',), ('kumis',), ('harimau',), ('asli',), ('bergaransi',), ('jual',), ('taring',), ('kuku',), ('kumis',), ('harimau',), ('asli',), ('berg',), ('wtf',), ('jual',), ('kuku',), ('harimau',), ('tanduk',), ('rusa',), ('putih',), ('kat',), ('carousel',), ('jual',), ('taring',), ('kuku',), ('harimau',), ('lapis',), ('mas',), ('kuku',), ('harimau',), ('jambi',), ('jual',), ('kuku',), ('harimau',), ('asli',), ('dr',), ('jambi',), ('minat',), ('lsg',), ('pm',), ('ane',), ('ga',), ('hub',), ('nb',), ('b',), ('jual',), ('kuku',), ('harimau',), ('kuku',), ('harimau',), ('dijamin',), ('asli',), ('silahkan',), ('kontak',), ('telpon',), ('whatsapp',), ('co',), ('lapak',), ('jual',), ('taring',), ('kulit',), ('kuku',), ('harimau',), ('gt',), ('cc',), ('via',), ('cem',), ('kelen',), ('jual',), ('kuku',), ('harimau',), ('dicek',), ('seller',), ('jual',), ('kuku',), ('harimau',), ('sumatera',), ('asli',), ('buyer',), ('alasannya',), ('kewibawaan',), ('nilai',), ('magis',), ('jual',), ('pelbagai',), ('jenis',), ('kuku',), ('kuku',), ('harimau',), ('kuku',), ('lembu',), ('kuku',), ('ayam',), ('x',), ('de',), ('laa',), ('jual',), ('baju',), ('lelawa',), ('laa',), ('lapak',), ('jual',), ('taring',), ('kulit',), ('kuku',), ('harimau',), ('gt',), ('cc',), ('via',), ('jual',), ('taring',), ('kuku',), ('kumis',), ('harimau',), ('asli',), ('bergaransi',), ('jual',), ('taring',), ('kuku',), ('kumis',), ('harimau',), ('asli',), ('berg',), ('jual',), ('anak',), ('harimau',), ('putih',), ('minat',), ('jinak',), ('pengen',), ('pelihara',), ('anak',), ('harimau',), ('sampe',), ('gede',), ('jinak',), ('v',), ('trus',), ('gua',), ('lepasin',), ('taringnya',), ('u',), ('u',)]\n"
     ]
    }
   ],
   "source": [
    "conn = mysql.connector.connect(host='localhost',user='root',password='',database='nlp')\n",
    "cursor = conn.cursor()\n",
    "query = \"select * from token_wildlife_trade\"\n",
    "cursor.execute(query)\n",
    "print(cursor.fetchall())\n",
    "conn.close()\n"
   ]
  },
  {
   "cell_type": "code",
   "execution_count": null,
   "id": "c78c3e5f",
   "metadata": {},
   "outputs": [],
   "source": []
  }
 ],
 "metadata": {
  "kernelspec": {
   "display_name": "Python 3",
   "language": "python",
   "name": "python3"
  },
  "language_info": {
   "codemirror_mode": {
    "name": "ipython",
    "version": 3
   },
   "file_extension": ".py",
   "mimetype": "text/x-python",
   "name": "python",
   "nbconvert_exporter": "python",
   "pygments_lexer": "ipython3",
   "version": "3.6.8"
  }
 },
 "nbformat": 4,
 "nbformat_minor": 5
}
